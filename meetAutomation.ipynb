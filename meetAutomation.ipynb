{
 "cells": [
  {
   "cell_type": "code",
   "execution_count": null,
   "id": "bc913c13",
   "metadata": {},
   "outputs": [],
   "source": [
    "import os\n",
    "import wget \n",
    "from selenium import webdriver\n",
    "from selenium.webdriver.common.keys import Keys\n",
    "from selenium.webdriver.support import expected_conditions as EC\n",
    "from selenium.webdriver.common.by import By\n",
    "from selenium.webdriver.chrome.options import Options\n",
    "from selenium.webdriver.support.wait import WebDriverWait"
   ]
  },
  {
   "cell_type": "code",
   "execution_count": null,
   "id": "f84ced4c",
   "metadata": {},
   "outputs": [],
   "source": [
    "option = Options()\n",
    "\n",
    "option.add_argument(\"--disable-infobars\")\n",
    "\n",
    "option.add_argument(\"use-fake-ui-for-media-stream\")\n",
    "\n",
    "option.add_argument(\"--disable-extensions\")\n",
    "\n",
    "option.add_experimental_option(\"prefs\", \n",
    "{\"profile.default_content_setting_values.notifications\": 1\n",
    " }) \n",
    "driver = webdriver.Chrome('D:/chromedriver.exe', chrome_options=option)\n",
    "driver.get('https://accounts.google.com/signin/v2/identifier?ltmpl=meet&continue=https%3A%2F%2Fmeet.google.com%3Fhs%3D193&_ga=2.268623089.105963198.1646670482-983867945.1646670482&flowName=GlifWebSignIn&flowEntry=ServiceLogin')"
   ]
  },
  {
   "cell_type": "code",
   "execution_count": null,
   "id": "758edb12",
   "metadata": {},
   "outputs": [],
   "source": [
    "username = WebDriverWait(driver,10).until(EC.element_to_be_clickable((By.CSS_SELECTOR, \"input[class='whsOnd zHQkBf']\")))\n",
    "username.clear()\n",
    "username.send_keys('email here')\n",
    "button = driver.find_element_by_class_name(\"VfPpkd-dgl2Hf-ppHlrf-sM5MNb\").click()"
   ]
  },
  {
   "cell_type": "code",
   "execution_count": null,
   "id": "d51f8e83",
   "metadata": {},
   "outputs": [],
   "source": [
    "pwd = WebDriverWait(driver,20).until(EC.element_to_be_clickable((By.CSS_SELECTOR, \"input[class='whsOnd zHQkBf']\")))\n",
    "pwd.clear()\n",
    "pwd.send_keys('password here')\n",
    "button = driver.find_element_by_class_name(\"VfPpkd-dgl2Hf-ppHlrf-sM5MNb\").click()"
   ]
  },
  {
   "cell_type": "code",
   "execution_count": null,
   "id": "0a8da6e2",
   "metadata": {},
   "outputs": [],
   "source": [
    "join = driver.find_element_by_class_name(\"taFJS\").click()"
   ]
  },
  {
   "cell_type": "code",
   "execution_count": null,
   "id": "dfd93696",
   "metadata": {},
   "outputs": [],
   "source": [
    "micOff = driver.find_element_by_class_name(\"dP0OSd\").click()\n",
    "videoOff = driver.find_element_by_class_name(\"GOH7Zb\").click()"
   ]
  },
  {
   "cell_type": "code",
   "execution_count": null,
   "id": "53f96dbe",
   "metadata": {},
   "outputs": [],
   "source": [
    "connect = driver.find_element_by_class_name(\"XCoPyb\").find_element_by_class_name(\"NPEfkd RveJvd snByac\").click()"
   ]
  },
  {
   "cell_type": "code",
   "execution_count": null,
   "id": "1ebd89a2",
   "metadata": {},
   "outputs": [],
   "source": []
  }
 ],
 "metadata": {
  "kernelspec": {
   "display_name": "Python 3 (ipykernel)",
   "language": "python",
   "name": "python3"
  },
  "language_info": {
   "codemirror_mode": {
    "name": "ipython",
    "version": 3
   },
   "file_extension": ".py",
   "mimetype": "text/x-python",
   "name": "python",
   "nbconvert_exporter": "python",
   "pygments_lexer": "ipython3",
   "version": "3.9.7"
  }
 },
 "nbformat": 4,
 "nbformat_minor": 5
}
